{
 "cells": [
  {
   "cell_type": "markdown",
   "id": "9fd59285-1dab-43a1-9f8e-f86580de6c39",
   "metadata": {},
   "source": [
    "## Week 2 Assignment"
   ]
  },
  {
   "cell_type": "markdown",
   "id": "aa89aeed-9182-4eda-a54b-6844b36b3a2c",
   "metadata": {},
   "source": [
    "This week's assignment is to import a dataset of our choice and then perform some preliminary exploratory data analysis. We begin by loading in the pandas library which can read in the data."
   ]
  },
  {
   "cell_type": "code",
   "execution_count": 33,
   "id": "4e5b59ab-7d96-4b9a-a856-09c9e4a4ce33",
   "metadata": {},
   "outputs": [],
   "source": [
    "import pandas as pd\n",
    "bbb_data = pd.read_csv(\"../data/bbb_stops.csv\")"
   ]
  },
  {
   "cell_type": "markdown",
   "id": "1cfc8a35-4b20-4b31-8fd0-3e55a9dd4320",
   "metadata": {},
   "source": [
    "The `head()` function shows the first 6 entries in our dataframe."
   ]
  },
  {
   "cell_type": "code",
   "execution_count": null,
   "id": "14622831-34ac-44b1-92d1-f8681b75218b",
   "metadata": {},
   "outputs": [
    {
     "data": {
      "text/html": [
       "<div>\n",
       "<style scoped>\n",
       "    .dataframe tbody tr th:only-of-type {\n",
       "        vertical-align: middle;\n",
       "    }\n",
       "\n",
       "    .dataframe tbody tr th {\n",
       "        vertical-align: top;\n",
       "    }\n",
       "\n",
       "    .dataframe thead th {\n",
       "        text-align: right;\n",
       "    }\n",
       "</style>\n",
       "<table border=\"1\" class=\"dataframe\">\n",
       "  <thead>\n",
       "    <tr style=\"text-align: right;\">\n",
       "      <th></th>\n",
       "      <th>stop_id</th>\n",
       "      <th>stop_code</th>\n",
       "      <th>stop_name</th>\n",
       "      <th>stop_desc</th>\n",
       "      <th>stop_lat</th>\n",
       "      <th>stop_lon</th>\n",
       "      <th>zone_id</th>\n",
       "      <th>stop_url</th>\n",
       "      <th>location_type</th>\n",
       "      <th>parent_station</th>\n",
       "      <th>stop_timezone</th>\n",
       "      <th>wheelchair_boarding</th>\n",
       "    </tr>\n",
       "  </thead>\n",
       "  <tbody>\n",
       "    <tr>\n",
       "      <th>0</th>\n",
       "      <td>3</td>\n",
       "      <td>1268</td>\n",
       "      <td>OCEAN NB &amp; PICO FS</td>\n",
       "      <td>1900 OCEAN AVE &amp; SEAVIEW TER</td>\n",
       "      <td>34.008091</td>\n",
       "      <td>-118.490930</td>\n",
       "      <td>NaN</td>\n",
       "      <td>NaN</td>\n",
       "      <td>NaN</td>\n",
       "      <td>NaN</td>\n",
       "      <td>NaN</td>\n",
       "      <td>0</td>\n",
       "    </tr>\n",
       "    <tr>\n",
       "      <th>1</th>\n",
       "      <td>4</td>\n",
       "      <td>1020</td>\n",
       "      <td>4TH NB &amp; SANTA MONICA NS</td>\n",
       "      <td>1400 4TH ST &amp; SANTA MONICA BLVD</td>\n",
       "      <td>34.016387</td>\n",
       "      <td>-118.495074</td>\n",
       "      <td>NaN</td>\n",
       "      <td>NaN</td>\n",
       "      <td>NaN</td>\n",
       "      <td>NaN</td>\n",
       "      <td>NaN</td>\n",
       "      <td>0</td>\n",
       "    </tr>\n",
       "    <tr>\n",
       "      <th>2</th>\n",
       "      <td>5</td>\n",
       "      <td>1413</td>\n",
       "      <td>SANTA MONICA EB &amp; 6TH NS</td>\n",
       "      <td>600 SANTA MONICA BLVD &amp; 6TH ST</td>\n",
       "      <td>34.017885</td>\n",
       "      <td>-118.493332</td>\n",
       "      <td>NaN</td>\n",
       "      <td>NaN</td>\n",
       "      <td>NaN</td>\n",
       "      <td>NaN</td>\n",
       "      <td>NaN</td>\n",
       "      <td>0</td>\n",
       "    </tr>\n",
       "    <tr>\n",
       "      <th>3</th>\n",
       "      <td>6</td>\n",
       "      <td>2001</td>\n",
       "      <td>SANTA MONICA EB &amp; CENTINELA FS</td>\n",
       "      <td>12400 SANTA MONICA BLVD &amp; CENTINELA AVE</td>\n",
       "      <td>34.038631</td>\n",
       "      <td>-118.467514</td>\n",
       "      <td>NaN</td>\n",
       "      <td>NaN</td>\n",
       "      <td>NaN</td>\n",
       "      <td>NaN</td>\n",
       "      <td>NaN</td>\n",
       "      <td>0</td>\n",
       "    </tr>\n",
       "    <tr>\n",
       "      <th>4</th>\n",
       "      <td>7</td>\n",
       "      <td>2002</td>\n",
       "      <td>SAWTELLE SB &amp; SANTA MONICA NS</td>\n",
       "      <td>1600 SAWTELLE BLVD &amp; SANTA MONICA BLVD</td>\n",
       "      <td>34.046523</td>\n",
       "      <td>-118.448490</td>\n",
       "      <td>NaN</td>\n",
       "      <td>NaN</td>\n",
       "      <td>NaN</td>\n",
       "      <td>NaN</td>\n",
       "      <td>NaN</td>\n",
       "      <td>0</td>\n",
       "    </tr>\n",
       "  </tbody>\n",
       "</table>\n",
       "</div>"
      ],
      "text/plain": [
       "   stop_id  stop_code                       stop_name  \\\n",
       "0        3       1268              OCEAN NB & PICO FS   \n",
       "1        4       1020        4TH NB & SANTA MONICA NS   \n",
       "2        5       1413        SANTA MONICA EB & 6TH NS   \n",
       "3        6       2001  SANTA MONICA EB & CENTINELA FS   \n",
       "4        7       2002   SAWTELLE SB & SANTA MONICA NS   \n",
       "\n",
       "                                 stop_desc   stop_lat    stop_lon  zone_id  \\\n",
       "0             1900 OCEAN AVE & SEAVIEW TER  34.008091 -118.490930      NaN   \n",
       "1          1400 4TH ST & SANTA MONICA BLVD  34.016387 -118.495074      NaN   \n",
       "2           600 SANTA MONICA BLVD & 6TH ST  34.017885 -118.493332      NaN   \n",
       "3  12400 SANTA MONICA BLVD & CENTINELA AVE  34.038631 -118.467514      NaN   \n",
       "4   1600 SAWTELLE BLVD & SANTA MONICA BLVD  34.046523 -118.448490      NaN   \n",
       "\n",
       "   stop_url  location_type  parent_station  stop_timezone  wheelchair_boarding  \n",
       "0       NaN            NaN             NaN            NaN                    0  \n",
       "1       NaN            NaN             NaN            NaN                    0  \n",
       "2       NaN            NaN             NaN            NaN                    0  \n",
       "3       NaN            NaN             NaN            NaN                    0  \n",
       "4       NaN            NaN             NaN            NaN                    0  "
      ]
     },
     "execution_count": 32,
     "metadata": {},
     "output_type": "execute_result"
    }
   ],
   "source": [
    "bbb_data.head()"
   ]
  },
  {
   "cell_type": "markdown",
   "id": "eaeda039-d7d7-4ff2-9655-55e54cc6c721",
   "metadata": {},
   "source": [
    "The `shape` attribute gives the dimensions of the dataframe -- it has 916 rows and 12 columns."
   ]
  },
  {
   "cell_type": "code",
   "execution_count": 6,
   "id": "e0ab22da-a170-435e-8773-0fb0f74fbf95",
   "metadata": {},
   "outputs": [
    {
     "data": {
      "text/plain": [
       "(916, 12)"
      ]
     },
     "execution_count": 6,
     "metadata": {},
     "output_type": "execute_result"
    }
   ],
   "source": [
    "bbb_data.shape"
   ]
  },
  {
   "cell_type": "markdown",
   "id": "8d9ba326-f04e-471f-b2c2-efbd401106b5",
   "metadata": {},
   "source": [
    "The `info()` function gives the data type of each columns and memory usage."
   ]
  },
  {
   "cell_type": "code",
   "execution_count": 34,
   "id": "d9439ca3-9f9d-4f97-9b6e-cefa46b23fc9",
   "metadata": {},
   "outputs": [
    {
     "name": "stdout",
     "output_type": "stream",
     "text": [
      "<class 'pandas.core.frame.DataFrame'>\n",
      "RangeIndex: 916 entries, 0 to 915\n",
      "Data columns (total 12 columns):\n",
      " #   Column               Non-Null Count  Dtype  \n",
      "---  ------               --------------  -----  \n",
      " 0   stop_id              916 non-null    int64  \n",
      " 1   stop_code            916 non-null    int64  \n",
      " 2   stop_name            916 non-null    object \n",
      " 3   stop_desc            898 non-null    object \n",
      " 4   stop_lat             916 non-null    float64\n",
      " 5   stop_lon             916 non-null    float64\n",
      " 6   zone_id              0 non-null      float64\n",
      " 7   stop_url             0 non-null      float64\n",
      " 8   location_type        0 non-null      float64\n",
      " 9   parent_station       0 non-null      float64\n",
      " 10  stop_timezone        0 non-null      float64\n",
      " 11  wheelchair_boarding  916 non-null    int64  \n",
      "dtypes: float64(7), int64(3), object(2)\n",
      "memory usage: 86.0+ KB\n"
     ]
    }
   ],
   "source": [
    "bbb_data.info()"
   ]
  },
  {
   "cell_type": "markdown",
   "id": "b7d29a3b-c32c-4ab3-9b09-93c927bbe857",
   "metadata": {},
   "source": [
    "The `columns` attribute is a list of all the columns in this dataframe."
   ]
  },
  {
   "cell_type": "code",
   "execution_count": 12,
   "id": "c0ef01cd-4326-45b5-bcdb-7f53ffa84535",
   "metadata": {},
   "outputs": [
    {
     "data": {
      "text/plain": [
       "Index(['stop_id', 'stop_code', 'stop_name', 'stop_desc', 'stop_lat',\n",
       "       'stop_lon', 'zone_id', 'stop_url', 'location_type', 'parent_station',\n",
       "       'stop_timezone', 'wheelchair_boarding'],\n",
       "      dtype='object')"
      ]
     },
     "execution_count": 12,
     "metadata": {},
     "output_type": "execute_result"
    }
   ],
   "source": [
    "bbb_data.columns"
   ]
  },
  {
   "cell_type": "markdown",
   "id": "c0a56e33-902b-4ec8-b4bc-74877cfc17a4",
   "metadata": {},
   "source": [
    "The `plot()` function allows plotting a scatterplot given x and y parameters. In this case, I plotted the latitude and longitude of the BBB bus stop locations."
   ]
  },
  {
   "cell_type": "code",
   "execution_count": 23,
   "id": "659d3e83-859e-4b19-91e5-4cf1c609a4dd",
   "metadata": {},
   "outputs": [
    {
     "data": {
      "text/plain": [
       "<AxesSubplot: xlabel='stop_lon', ylabel='stop_lat'>"
      ]
     },
     "execution_count": 23,
     "metadata": {},
     "output_type": "execute_result"
    },
    {
     "data": {
      "image/png": "[encoded data removed]",
      "text/plain": [
       "<Figure size 640x480 with 1 Axes>"
      ]
     },
     "metadata": {},
     "output_type": "display_data"
    }
   ],
   "source": [
    "bbb_data.plot(x='stop_lon', y='stop_lat', kind='scatter')"
   ]
  },
  {
   "cell_type": "markdown",
   "id": "d144b7a5-9267-477e-a0f9-3a02ddcb1518",
   "metadata": {},
   "source": [
    "The `value_counts()` function gives the count of each occurence of value in a column. In this case, there is only the value `0` for wheelchair boarding, which indicates that no stops have a  wheelchair accessibility ramp available for wheelchair users to board directly on the bus without a change in elevation."
   ]
  },
  {
   "cell_type": "code",
   "execution_count": 35,
   "id": "653debe5-3a56-4811-877d-03bde020f4dc",
   "metadata": {},
   "outputs": [
    {
     "data": {
      "text/plain": [
       "0    916\n",
       "Name: wheelchair_boarding, dtype: int64"
      ]
     },
     "execution_count": 35,
     "metadata": {},
     "output_type": "execute_result"
    }
   ],
   "source": [
    "bbb_data['wheelchair_boarding'].value_counts()"
   ]
  },
  {
   "cell_type": "markdown",
   "id": "7b0eb4d6-d557-49f0-8a58-ae606cd9c762",
   "metadata": {},
   "source": [
    "As several of the columns simply had null values, I dropped them and created a new dataframe with these columns filtered out."
   ]
  },
  {
   "cell_type": "code",
   "execution_count": 31,
   "id": "8187cd33-2590-4683-8dcf-09f12c528731",
   "metadata": {},
   "outputs": [
    {
     "data": {
      "text/html": [
       "<div>\n",
       "<style scoped>\n",
       "    .dataframe tbody tr th:only-of-type {\n",
       "        vertical-align: middle;\n",
       "    }\n",
       "\n",
       "    .dataframe tbody tr th {\n",
       "        vertical-align: top;\n",
       "    }\n",
       "\n",
       "    .dataframe thead th {\n",
       "        text-align: right;\n",
       "    }\n",
       "</style>\n",
       "<table border=\"1\" class=\"dataframe\">\n",
       "  <thead>\n",
       "    <tr style=\"text-align: right;\">\n",
       "      <th></th>\n",
       "      <th>stop_id</th>\n",
       "      <th>stop_code</th>\n",
       "      <th>stop_name</th>\n",
       "      <th>stop_desc</th>\n",
       "      <th>stop_lat</th>\n",
       "      <th>stop_lon</th>\n",
       "    </tr>\n",
       "  </thead>\n",
       "  <tbody>\n",
       "    <tr>\n",
       "      <th>0</th>\n",
       "      <td>3</td>\n",
       "      <td>1268</td>\n",
       "      <td>OCEAN NB &amp; PICO FS</td>\n",
       "      <td>1900 OCEAN AVE &amp; SEAVIEW TER</td>\n",
       "      <td>34.008091</td>\n",
       "      <td>-118.490930</td>\n",
       "    </tr>\n",
       "    <tr>\n",
       "      <th>1</th>\n",
       "      <td>4</td>\n",
       "      <td>1020</td>\n",
       "      <td>4TH NB &amp; SANTA MONICA NS</td>\n",
       "      <td>1400 4TH ST &amp; SANTA MONICA BLVD</td>\n",
       "      <td>34.016387</td>\n",
       "      <td>-118.495074</td>\n",
       "    </tr>\n",
       "    <tr>\n",
       "      <th>2</th>\n",
       "      <td>5</td>\n",
       "      <td>1413</td>\n",
       "      <td>SANTA MONICA EB &amp; 6TH NS</td>\n",
       "      <td>600 SANTA MONICA BLVD &amp; 6TH ST</td>\n",
       "      <td>34.017885</td>\n",
       "      <td>-118.493332</td>\n",
       "    </tr>\n",
       "    <tr>\n",
       "      <th>3</th>\n",
       "      <td>6</td>\n",
       "      <td>2001</td>\n",
       "      <td>SANTA MONICA EB &amp; CENTINELA FS</td>\n",
       "      <td>12400 SANTA MONICA BLVD &amp; CENTINELA AVE</td>\n",
       "      <td>34.038631</td>\n",
       "      <td>-118.467514</td>\n",
       "    </tr>\n",
       "    <tr>\n",
       "      <th>4</th>\n",
       "      <td>7</td>\n",
       "      <td>2002</td>\n",
       "      <td>SAWTELLE SB &amp; SANTA MONICA NS</td>\n",
       "      <td>1600 SAWTELLE BLVD &amp; SANTA MONICA BLVD</td>\n",
       "      <td>34.046523</td>\n",
       "      <td>-118.448490</td>\n",
       "    </tr>\n",
       "  </tbody>\n",
       "</table>\n",
       "</div>"
      ],
      "text/plain": [
       "   stop_id  stop_code                       stop_name  \\\n",
       "0        3       1268              OCEAN NB & PICO FS   \n",
       "1        4       1020        4TH NB & SANTA MONICA NS   \n",
       "2        5       1413        SANTA MONICA EB & 6TH NS   \n",
       "3        6       2001  SANTA MONICA EB & CENTINELA FS   \n",
       "4        7       2002   SAWTELLE SB & SANTA MONICA NS   \n",
       "\n",
       "                                 stop_desc   stop_lat    stop_lon  \n",
       "0             1900 OCEAN AVE & SEAVIEW TER  34.008091 -118.490930  \n",
       "1          1400 4TH ST & SANTA MONICA BLVD  34.016387 -118.495074  \n",
       "2           600 SANTA MONICA BLVD & 6TH ST  34.017885 -118.493332  \n",
       "3  12400 SANTA MONICA BLVD & CENTINELA AVE  34.038631 -118.467514  \n",
       "4   1600 SAWTELLE BLVD & SANTA MONICA BLVD  34.046523 -118.448490  "
      ]
     },
     "execution_count": 31,
     "metadata": {},
     "output_type": "execute_result"
    }
   ],
   "source": [
    "bbb_data_filtered = bbb_data.loc[:, ['stop_id', 'stop_code', 'stop_name', 'stop_desc', 'stop_lat', 'stop_lon']]\n",
    "bbb_data_filtered.head()"
   ]
  }
 ],
 "metadata": {
  "kernelspec": {
   "display_name": "Python 3 (ipykernel)",
   "language": "python",
   "name": "python3"
  },
  "language_info": {
   "codemirror_mode": {
    "name": "ipython",
    "version": 3
   },
   "file_extension": ".py",
   "mimetype": "text/x-python",
   "name": "python",
   "nbconvert_exporter": "python",
   "pygments_lexer": "ipython3",
   "version": "3.10.8"
  }
 },
 "nbformat": 4,
 "nbformat_minor": 5
}
