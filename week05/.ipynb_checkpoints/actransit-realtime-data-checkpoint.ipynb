{
 "cells": [
  {
   "cell_type": "code",
   "execution_count": 1,
   "id": "0b65beef-d1b3-4285-b3eb-76899c3d908a",
   "metadata": {},
   "outputs": [],
   "source": [
    "import requests\n",
    "import pandas as pd\n",
    "import json\n",
    "from datetime import datetime"
   ]
  },
  {
   "cell_type": "markdown",
   "id": "8a30c7b1-996b-4043-9e53-fcef3707938b",
   "metadata": {},
   "source": [
    "Note to self: how many vehicles service each line?"
   ]
  },
  {
   "cell_type": "markdown",
   "id": "ec270f00-84bf-4451-965a-07912cfd2032",
   "metadata": {},
   "source": [
    "## Code"
   ]
  },
  {
   "cell_type": "code",
   "execution_count": 2,
   "id": "89ccf6dd-c223-47dd-9d9e-84c922092932",
   "metadata": {},
   "outputs": [],
   "source": [
    "jackson = \"79bdb7dc-4dec-4e0b-b699-6045af907fd1\"\n",
    "purva = \"0221e9b4-4148-4826-a7e5-691c4b30704e\""
   ]
  },
  {
   "cell_type": "code",
   "execution_count": 3,
   "id": "e0623cc2-cad7-465e-a8e5-b78887493d73",
   "metadata": {},
   "outputs": [],
   "source": [
    "def get_realtime_data(stop_code, api_key=jackson):\n",
    "    url = \"https://api.511.org/transit/StopMonitoring?api_key=\" + api_key + \"&agency=AC&stopCode=\" + stop_code\n",
    "    parsed_url_data = json.loads(requests.get(url).content)\n",
    "    return parsed_url_data[\"ServiceDelivery\"][\"StopMonitoringDelivery\"][\"MonitoredStopVisit\"]"
   ]
  },
  {
   "cell_type": "code",
   "execution_count": 4,
   "id": "04a9a6ad-1484-4808-83df-33609391261d",
   "metadata": {},
   "outputs": [],
   "source": [
    "def calculate_delays(bus_line):\n",
    "    \n",
    "    df = pd.read_csv(\"Line \" + bus_line + \".csv\")\n",
    "    delay_dict = {} \n",
    "    \n",
    "    for stop_code in df[\"stop_code\"]:\n",
    "        bus_list = get_realtime_data(str(stop_code))\n",
    "        total_delay = 0\n",
    "       \n",
    "        for i in range(len(bus_list)):\n",
    "            bus_data = bus_list[i][\"MonitoredVehicleJourney\"]\n",
    "            \n",
    "            if (bus_data[\"LineRef\"] == bus_line):\n",
    "                \n",
    "                aimed_arrival_time = bus_data[\"MonitoredCall\"][\"AimedArrivalTime\"]\n",
    "                expected_arrival_time = bus_data[\"MonitoredCall\"][\"ExpectedArrivalTime\"]\n",
    "                \n",
    "                if (aimed_arrival_time == None or expected_arrival_time == None):\n",
    "                    continue\n",
    "                \n",
    "                \n",
    "                aimed = datetime.strptime(aimed_arrival_time, \"%Y-%m-%dT%XZ\")\n",
    "                expected = datetime.strptime(expected_arrival_time, \"%Y-%m-%dT%XZ\")\n",
    "                delay = (expected - aimed)\n",
    "            \n",
    "                if delay.total_seconds() > 0:\n",
    "                    total_delay += delay.total_seconds()\n",
    "                    \n",
    "        delay_dict[str(stop_code)] = total_delay  \n",
    "    \n",
    "    return delay_dict"
   ]
  },
  {
   "cell_type": "code",
   "execution_count": 5,
   "id": "0125c841-d2a0-43b0-9d53-37b4f3cd5998",
   "metadata": {},
   "outputs": [
    {
     "name": "stdout",
     "output_type": "stream",
     "text": [
      "bus\n",
      "2023-02-10 00:19:29\n",
      "2023-02-10 00:19:29\n",
      "0:00:00\n",
      "bus\n",
      "2023-02-09 23:21:47\n",
      "2023-02-09 23:27:30\n",
      "0:05:43\n",
      "bus\n",
      "2023-02-09 23:22:21\n",
      "2023-02-09 23:28:04\n",
      "0:05:43\n",
      "bus\n",
      "2023-02-09 23:22:50\n",
      "2023-02-09 23:28:33\n",
      "0:05:43\n",
      "bus\n",
      "2023-02-09 23:22:00\n",
      "2023-02-09 23:27:43\n",
      "0:05:43\n",
      "bus\n",
      "2023-02-09 23:22:58\n",
      "2023-02-09 23:28:41\n",
      "0:05:43\n",
      "bus\n",
      "2023-02-09 23:37:00\n",
      "2023-02-09 23:42:43\n",
      "0:05:43\n",
      "bus\n",
      "2023-02-09 23:20:56\n",
      "2023-02-09 23:26:39\n",
      "0:05:43\n",
      "bus\n",
      "2023-02-09 23:21:11\n",
      "2023-02-09 23:26:54\n",
      "0:05:43\n",
      "bus\n",
      "2023-02-10 00:17:56\n",
      "2023-02-10 00:17:56\n",
      "0:00:00\n",
      "bus\n",
      "2023-02-10 00:16:16\n",
      "2023-02-10 00:16:16\n",
      "0:00:00\n",
      "bus\n",
      "2023-02-10 00:17:06\n",
      "2023-02-10 00:17:06\n",
      "0:00:00\n",
      "bus\n",
      "2023-02-10 00:15:00\n",
      "2023-02-10 00:15:00\n",
      "0:00:00\n",
      "bus\n",
      "2023-02-10 00:18:56\n",
      "2023-02-10 00:18:56\n",
      "0:00:00\n",
      "bus\n",
      "2023-02-09 23:20:27\n",
      "2023-02-09 23:26:10\n",
      "0:05:43\n"
     ]
    }
   ],
   "source": [
    "delays_51a = pd.DataFrame(calculate_delays(\"51A\").items(), columns=[\"Stop code\", \"Delay (seconds)\"])"
   ]
  },
  {
   "cell_type": "code",
   "execution_count": 6,
   "id": "5bdfcf02-fb28-495c-a62f-04a7751327b2",
   "metadata": {},
   "outputs": [
    {
     "data": {
      "text/html": [
       "<div>\n",
       "<style scoped>\n",
       "    .dataframe tbody tr th:only-of-type {\n",
       "        vertical-align: middle;\n",
       "    }\n",
       "\n",
       "    .dataframe tbody tr th {\n",
       "        vertical-align: top;\n",
       "    }\n",
       "\n",
       "    .dataframe thead th {\n",
       "        text-align: right;\n",
       "    }\n",
       "</style>\n",
       "<table border=\"1\" class=\"dataframe\">\n",
       "  <thead>\n",
       "    <tr style=\"text-align: right;\">\n",
       "      <th></th>\n",
       "      <th>Stop code</th>\n",
       "      <th>Delay (seconds)</th>\n",
       "    </tr>\n",
       "  </thead>\n",
       "  <tbody>\n",
       "    <tr>\n",
       "      <th>0</th>\n",
       "      <td>58996</td>\n",
       "      <td>343.0</td>\n",
       "    </tr>\n",
       "    <tr>\n",
       "      <th>1</th>\n",
       "      <td>57507</td>\n",
       "      <td>343.0</td>\n",
       "    </tr>\n",
       "    <tr>\n",
       "      <th>2</th>\n",
       "      <td>59987</td>\n",
       "      <td>343.0</td>\n",
       "    </tr>\n",
       "    <tr>\n",
       "      <th>3</th>\n",
       "      <td>57656</td>\n",
       "      <td>343.0</td>\n",
       "    </tr>\n",
       "    <tr>\n",
       "      <th>4</th>\n",
       "      <td>58177</td>\n",
       "      <td>343.0</td>\n",
       "    </tr>\n",
       "    <tr>\n",
       "      <th>5</th>\n",
       "      <td>51110</td>\n",
       "      <td>343.0</td>\n",
       "    </tr>\n",
       "    <tr>\n",
       "      <th>6</th>\n",
       "      <td>56707</td>\n",
       "      <td>343.0</td>\n",
       "    </tr>\n",
       "    <tr>\n",
       "      <th>7</th>\n",
       "      <td>54332</td>\n",
       "      <td>343.0</td>\n",
       "    </tr>\n",
       "    <tr>\n",
       "      <th>8</th>\n",
       "      <td>52304</td>\n",
       "      <td>343.0</td>\n",
       "    </tr>\n",
       "  </tbody>\n",
       "</table>\n",
       "</div>"
      ],
      "text/plain": [
       "  Stop code  Delay (seconds)\n",
       "0     58996            343.0\n",
       "1     57507            343.0\n",
       "2     59987            343.0\n",
       "3     57656            343.0\n",
       "4     58177            343.0\n",
       "5     51110            343.0\n",
       "6     56707            343.0\n",
       "7     54332            343.0\n",
       "8     52304            343.0"
      ]
     },
     "execution_count": 14,
     "metadata": {},
     "output_type": "execute_result"
    }
   ],
   "source": [
    "delays_51a"
   ]
  },
  {
   "cell_type": "code",
   "execution_count": null,
   "id": "200e2598-fc76-4fa5-9cab-d3012770f3e3",
   "metadata": {},
   "outputs": [],
   "source": []
  },
  {
   "cell_type": "markdown",
   "id": "10967b1c-bd96-48e5-bcc6-864c1aea9ce5",
   "metadata": {
    "tags": []
   },
   "source": [
    "### 51A"
   ]
  },
  {
   "cell_type": "code",
   "execution_count": 58,
   "id": "5cc42168-d48b-4540-be83-f83d00508987",
   "metadata": {},
   "outputs": [
    {
     "data": {
      "text/plain": [
       "Index(['stop_id', 'stop_name', 'stop_code', 'zone_id'], dtype='object')"
      ]
     },
     "execution_count": 58,
     "metadata": {},
     "output_type": "execute_result"
    }
   ],
   "source": [
    "stop_codes_51a = pd.read_csv(\"Line 51A.csv\")\n",
    "stop_codes_51a.columns"
   ]
  },
  {
   "cell_type": "code",
   "execution_count": 101,
   "id": "5941398a-914c-44c9-aaf8-9efe3f980599",
   "metadata": {},
   "outputs": [
    {
     "data": {
      "text/plain": [
       "{'RecordedAtTime': '2023-02-08T20:22:07Z',\n",
       " 'MonitoringRef': '58677',\n",
       " 'MonitoredVehicleJourney': {'LineRef': '51A',\n",
       "  'DirectionRef': 'N',\n",
       "  'FramedVehicleJourneyRef': {'DataFrameRef': '2023-02-08',\n",
       "   'DatedVehicleJourneyRef': '5488020'},\n",
       "  'PublishedLineName': 'Broadway - Santa Clara',\n",
       "  'OperatorRef': 'AC',\n",
       "  'OriginRef': '51333',\n",
       "  'OriginName': 'Fruitvale BART',\n",
       "  'DestinationRef': '50484',\n",
       "  'DestinationName': 'Rockridge BART',\n",
       "  'Monitored': True,\n",
       "  'InCongestion': None,\n",
       "  'VehicleLocation': {'Longitude': '-122.224014', 'Latitude': '37.7746086'},\n",
       "  'Bearing': '324.0000000000',\n",
       "  'Occupancy': 'seatsAvailable',\n",
       "  'VehicleRef': '1676',\n",
       "  'MonitoredCall': {'StopPointRef': '58677',\n",
       "   'StopPointName': 'Broadway & Blanding Av',\n",
       "   'VehicleLocationAtStop': '',\n",
       "   'VehicleAtStop': 'false',\n",
       "   'AimedArrivalTime': '2023-02-08T20:17:00Z',\n",
       "   'ExpectedArrivalTime': '2023-02-08T20:26:35Z',\n",
       "   'AimedDepartureTime': '2023-02-08T20:17:00Z',\n",
       "   'ExpectedDepartureTime': None,\n",
       "   'Distances': ''}}}"
      ]
     },
     "execution_count": 101,
     "metadata": {},
     "output_type": "execute_result"
    }
   ],
   "source": [
    "get_realtime_data(\"58677\")[0]"
   ]
  },
  {
   "cell_type": "code",
   "execution_count": 4,
   "id": "f8d379a9-fe91-41bc-89ba-867055cdab08",
   "metadata": {},
   "outputs": [],
   "source": [
    "url = \"https://api.511.org/transit/StopMonitoring?api_key=0221e9b4-4148-4826-a7e5-691c4b30704e&agency=AC&stopCode=58677\""
   ]
  },
  {
   "cell_type": "code",
   "execution_count": 48,
   "id": "bad482bb-a0f3-44ed-ace2-26417a27ba8d",
   "metadata": {},
   "outputs": [],
   "source": [
    "parsed_url_data = json.loads(requests.get(url).content)\n",
    "bus_list = parsed_url_data[\"ServiceDelivery\"][\"StopMonitoringDelivery\"][\"MonitoredStopVisit\"]"
   ]
  },
  {
   "cell_type": "code",
   "execution_count": 49,
   "id": "40ae8acc-58da-4566-879d-3adbc1d31ee6",
   "metadata": {},
   "outputs": [
    {
     "data": {
      "text/plain": [
       "[{'RecordedAtTime': '2023-02-08T19:27:06Z',\n",
       "  'MonitoringRef': '58677',\n",
       "  'MonitoredVehicleJourney': {'LineRef': '51A',\n",
       "   'DirectionRef': 'N',\n",
       "   'FramedVehicleJourneyRef': {'DataFrameRef': '2023-02-08',\n",
       "    'DatedVehicleJourneyRef': '191020'},\n",
       "   'PublishedLineName': 'Broadway - Santa Clara',\n",
       "   'OperatorRef': 'AC',\n",
       "   'OriginRef': '51333',\n",
       "   'OriginName': 'Fruitvale BART',\n",
       "   'DestinationRef': '50484',\n",
       "   'DestinationName': 'Rockridge BART',\n",
       "   'Monitored': True,\n",
       "   'InCongestion': None,\n",
       "   'VehicleLocation': {'Longitude': '-122.228371', 'Latitude': '37.772213'},\n",
       "   'Bearing': '197.0000000000',\n",
       "   'Occupancy': 'seatsAvailable',\n",
       "   'VehicleRef': '7019',\n",
       "   'MonitoredCall': {'StopPointRef': '58677',\n",
       "    'StopPointName': 'Broadway & Blanding Av',\n",
       "    'VehicleLocationAtStop': '',\n",
       "    'VehicleAtStop': 'false',\n",
       "    'AimedArrivalTime': '2023-02-08T19:29:00Z',\n",
       "    'ExpectedArrivalTime': '2023-02-08T19:29:57Z',\n",
       "    'AimedDepartureTime': '2023-02-08T19:29:00Z',\n",
       "    'ExpectedDepartureTime': None,\n",
       "    'Distances': ''}}},\n",
       " {'RecordedAtTime': '1970-01-01T00:00:00Z',\n",
       "  'MonitoringRef': '58677',\n",
       "  'MonitoredVehicleJourney': {'LineRef': '51A',\n",
       "   'DirectionRef': 'N',\n",
       "   'FramedVehicleJourneyRef': {'DataFrameRef': '2023-02-08',\n",
       "    'DatedVehicleJourneyRef': '12676020'},\n",
       "   'PublishedLineName': 'Broadway - Santa Clara',\n",
       "   'OperatorRef': 'AC',\n",
       "   'OriginRef': '51333',\n",
       "   'OriginName': 'Fruitvale BART',\n",
       "   'DestinationRef': '50484',\n",
       "   'DestinationName': 'Rockridge BART',\n",
       "   'Monitored': True,\n",
       "   'InCongestion': None,\n",
       "   'VehicleLocation': {'Longitude': '', 'Latitude': ''},\n",
       "   'Bearing': None,\n",
       "   'Occupancy': None,\n",
       "   'VehicleRef': None,\n",
       "   'MonitoredCall': {'StopPointRef': '58677',\n",
       "    'StopPointName': 'Broadway & Blanding Av',\n",
       "    'VehicleLocationAtStop': '',\n",
       "    'VehicleAtStop': '',\n",
       "    'AimedArrivalTime': '2023-02-08T19:41:00Z',\n",
       "    'ExpectedArrivalTime': '2023-02-08T19:41:00Z',\n",
       "    'AimedDepartureTime': '2023-02-08T19:41:00Z',\n",
       "    'ExpectedDepartureTime': None,\n",
       "    'Distances': ''}}},\n",
       " {'RecordedAtTime': '1970-01-01T00:00:00Z',\n",
       "  'MonitoringRef': '58677',\n",
       "  'MonitoredVehicleJourney': {'LineRef': '51A',\n",
       "   'DirectionRef': 'N',\n",
       "   'FramedVehicleJourneyRef': {'DataFrameRef': '2023-02-08',\n",
       "    'DatedVehicleJourneyRef': '9594020'},\n",
       "   'PublishedLineName': 'Broadway - Santa Clara',\n",
       "   'OperatorRef': 'AC',\n",
       "   'OriginRef': '51333',\n",
       "   'OriginName': 'Fruitvale BART',\n",
       "   'DestinationRef': '50484',\n",
       "   'DestinationName': 'Rockridge BART',\n",
       "   'Monitored': True,\n",
       "   'InCongestion': None,\n",
       "   'VehicleLocation': {'Longitude': '', 'Latitude': ''},\n",
       "   'Bearing': None,\n",
       "   'Occupancy': None,\n",
       "   'VehicleRef': None,\n",
       "   'MonitoredCall': {'StopPointRef': '58677',\n",
       "    'StopPointName': 'Broadway & Blanding Av',\n",
       "    'VehicleLocationAtStop': '',\n",
       "    'VehicleAtStop': '',\n",
       "    'AimedArrivalTime': '2023-02-08T19:53:00Z',\n",
       "    'ExpectedArrivalTime': '2023-02-08T19:53:00Z',\n",
       "    'AimedDepartureTime': '2023-02-08T19:53:00Z',\n",
       "    'ExpectedDepartureTime': None,\n",
       "    'Distances': ''}}},\n",
       " {'RecordedAtTime': '1970-01-01T00:00:00Z',\n",
       "  'MonitoringRef': '58677',\n",
       "  'MonitoredVehicleJourney': {'LineRef': '19',\n",
       "   'DirectionRef': 'W',\n",
       "   'FramedVehicleJourneyRef': {'DataFrameRef': '2023-02-08',\n",
       "    'DatedVehicleJourneyRef': '2142020'},\n",
       "   'PublishedLineName': 'Buena Vista - Fruitvale',\n",
       "   'OperatorRef': 'AC',\n",
       "   'OriginRef': '59000',\n",
       "   'OriginName': 'Fruitvale BART',\n",
       "   'DestinationRef': '51110',\n",
       "   'DestinationName': 'Downtown Oakland',\n",
       "   'Monitored': True,\n",
       "   'InCongestion': None,\n",
       "   'VehicleLocation': {'Longitude': '', 'Latitude': ''},\n",
       "   'Bearing': None,\n",
       "   'Occupancy': None,\n",
       "   'VehicleRef': None,\n",
       "   'MonitoredCall': {'StopPointRef': '58677',\n",
       "    'StopPointName': 'Broadway & Blanding Av',\n",
       "    'VehicleLocationAtStop': '',\n",
       "    'VehicleAtStop': '',\n",
       "    'AimedArrivalTime': '2023-02-08T20:12:00Z',\n",
       "    'ExpectedArrivalTime': '2023-02-08T20:12:00Z',\n",
       "    'AimedDepartureTime': '2023-02-08T20:12:00Z',\n",
       "    'ExpectedDepartureTime': None,\n",
       "    'Distances': ''}}}]"
      ]
     },
     "execution_count": 49,
     "metadata": {},
     "output_type": "execute_result"
    }
   ],
   "source": [
    "bus_list"
   ]
  },
  {
   "cell_type": "code",
   "execution_count": 59,
   "id": "7ce08a45-c84b-4983-bf38-1fd830d3c23d",
   "metadata": {},
   "outputs": [
    {
     "data": {
      "text/plain": [
       "['51A', '51A', '51A', '19']"
      ]
     },
     "execution_count": 59,
     "metadata": {},
     "output_type": "execute_result"
    }
   ],
   "source": [
    "[bus_list[y][\"MonitoredVehicleJourney\"][\"LineRef\"] for y in range(len(bus_list))]"
   ]
  },
  {
   "cell_type": "code",
   "execution_count": 61,
   "id": "51e36478-8611-4336-ac94-38f10e225e5a",
   "metadata": {},
   "outputs": [
    {
     "data": {
      "text/plain": [
       "['2023-02-08T19:29:00Z',\n",
       " '2023-02-08T19:41:00Z',\n",
       " '2023-02-08T19:53:00Z',\n",
       " '2023-02-08T20:12:00Z']"
      ]
     },
     "execution_count": 61,
     "metadata": {},
     "output_type": "execute_result"
    }
   ],
   "source": [
    "[bus_list[y][\"MonitoredVehicleJourney\"][\"MonitoredCall\"][\"AimedArrivalTime\"] for y in range(len(bus_list))]"
   ]
  },
  {
   "cell_type": "code",
   "execution_count": 131,
   "id": "9b088194-60e7-48ac-8bb6-55e30565c570",
   "metadata": {},
   "outputs": [
    {
     "ename": "TypeError",
     "evalue": "unsupported operand type(s) for -: 'datetime.time' and 'datetime.time'",
     "output_type": "error",
     "traceback": [
      "\u001b[0;31m---------------------------------------------------------------------------\u001b[0m",
      "\u001b[0;31mTypeError\u001b[0m                                 Traceback (most recent call last)",
      "Cell \u001b[0;32mIn[134], line 4\u001b[0m\n\u001b[1;32m      2\u001b[0m b \u001b[38;5;241m=\u001b[39m datetime\u001b[38;5;241m.\u001b[39mstrptime(\u001b[38;5;124m'\u001b[39m\u001b[38;5;124m2023-02-08T19:41:00Z\u001b[39m\u001b[38;5;124m'\u001b[39m, \u001b[38;5;124m'\u001b[39m\u001b[38;5;124m%\u001b[39m\u001b[38;5;124mY-\u001b[39m\u001b[38;5;124m%\u001b[39m\u001b[38;5;124mm-\u001b[39m\u001b[38;5;132;01m%d\u001b[39;00m\u001b[38;5;124mT\u001b[39m\u001b[38;5;132;01m%X\u001b[39;00m\u001b[38;5;124mZ\u001b[39m\u001b[38;5;124m'\u001b[39m)\u001b[38;5;241m.\u001b[39mtime()\n\u001b[1;32m      3\u001b[0m a \u001b[38;5;241m=\u001b[39m datetime\u001b[38;5;241m.\u001b[39mstrptime(\u001b[38;5;124m'\u001b[39m\u001b[38;5;124m2023-02-08T19:29:00Z\u001b[39m\u001b[38;5;124m'\u001b[39m, \u001b[38;5;124m'\u001b[39m\u001b[38;5;124m%\u001b[39m\u001b[38;5;124mY-\u001b[39m\u001b[38;5;124m%\u001b[39m\u001b[38;5;124mm-\u001b[39m\u001b[38;5;132;01m%d\u001b[39;00m\u001b[38;5;124mT\u001b[39m\u001b[38;5;132;01m%X\u001b[39;00m\u001b[38;5;124mZ\u001b[39m\u001b[38;5;124m'\u001b[39m)\u001b[38;5;241m.\u001b[39mtime()\n\u001b[0;32m----> 4\u001b[0m c \u001b[38;5;241m=\u001b[39m \u001b[43mb\u001b[49m\u001b[43m \u001b[49m\u001b[38;5;241;43m-\u001b[39;49m\u001b[43m \u001b[49m\u001b[43ma\u001b[49m\n",
      "\u001b[0;31mTypeError\u001b[0m: unsupported operand type(s) for -: 'datetime.time' and 'datetime.time'"
     ]
    }
   ],
   "source": [
    "from datetime import datetime\n",
    "b = datetime.strptime('2023-02-08T19:41:00Z', '%Y-%m-%dT%XZ')\n",
    "a = datetime.strptime('2023-02-08T19:29:00Z', '%Y-%m-%dT%XZ')\n",
    "c = b - a"
   ]
  },
  {
   "cell_type": "code",
   "execution_count": 132,
   "id": "6b83afa1-0cb3-47c3-aa42-3da4873b7bea",
   "metadata": {},
   "outputs": [
    {
     "data": {
      "text/plain": [
       "True"
      ]
     },
     "execution_count": 132,
     "metadata": {},
     "output_type": "execute_result"
    }
   ],
   "source": [
    "c.total_seconds() > 0"
   ]
  },
  {
   "cell_type": "code",
   "execution_count": 133,
   "id": "a38cc654-73a4-44ea-8c59-f36aacd6ad94",
   "metadata": {},
   "outputs": [
    {
     "data": {
      "text/plain": [
       "datetime.datetime(2023, 2, 8, 19, 41)"
      ]
     },
     "execution_count": 133,
     "metadata": {},
     "output_type": "execute_result"
    }
   ],
   "source": [
    "b"
   ]
  }
 ],
 "metadata": {
  "kernelspec": {
   "display_name": "Python 3 (ipykernel)",
   "language": "python",
   "name": "python3"
  },
  "language_info": {
   "codemirror_mode": {
    "name": "ipython",
    "version": 3
   },
   "file_extension": ".py",
   "mimetype": "text/x-python",
   "name": "python",
   "nbconvert_exporter": "python",
   "pygments_lexer": "ipython3",
   "version": "3.10.8"
  }
 },
 "nbformat": 4,
 "nbformat_minor": 5
}
