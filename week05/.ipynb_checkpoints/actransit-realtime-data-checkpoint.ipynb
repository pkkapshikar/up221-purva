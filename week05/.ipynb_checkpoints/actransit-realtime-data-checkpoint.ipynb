{
 "cells": [
  {
   "cell_type": "code",
   "execution_count": 1,
   "id": "0b65beef-d1b3-4285-b3eb-76899c3d908a",
   "metadata": {},
   "outputs": [],
   "source": [
    "import requests\n",
    "import pandas as pd\n",
    "import json\n",
    "from datetime import datetime\n",
    "from zoneinfo import ZoneInfo"
   ]
  },
  {
   "cell_type": "markdown",
   "id": "ec270f00-84bf-4451-965a-07912cfd2032",
   "metadata": {},
   "source": [
    "## Code"
   ]
  },
  {
   "cell_type": "code",
   "execution_count": 2,
   "id": "89ccf6dd-c223-47dd-9d9e-84c922092932",
   "metadata": {},
   "outputs": [],
   "source": [
    "jackson = \"79bdb7dc-4dec-4e0b-b699-6045af907fd1\"\n",
    "purva = \"0221e9b4-4148-4826-a7e5-691c4b30704e\"\n",
    "hamzah = \"\""
   ]
  },
  {
   "cell_type": "code",
   "execution_count": 3,
   "id": "e0623cc2-cad7-465e-a8e5-b78887493d73",
   "metadata": {},
   "outputs": [],
   "source": [
    "def get_realtime_data(stop_code, api_key):\n",
    "    url = \"https://api.511.org/transit/StopMonitoring?api_key=\" + api_key + \"&agency=AC&stopCode=\" + stop_code\n",
    "    parsed_url_data = json.loads(requests.get(url).content)\n",
    "    return parsed_url_data[\"ServiceDelivery\"][\"StopMonitoringDelivery\"][\"MonitoredStopVisit\"]"
   ]
  },
  {
   "cell_type": "code",
   "execution_count": 4,
   "id": "04a9a6ad-1484-4808-83df-33609391261d",
   "metadata": {},
   "outputs": [],
   "source": [
    "def calculate_delays(bus_line, api_key=purva):\n",
    "    \n",
    "    df = pd.read_csv(\"Line \" + bus_line + \".csv\")\n",
    "    delay_dict = {} \n",
    "    \n",
    "    for stop_code in df[\"stop_code\"]:\n",
    "        bus_list = get_realtime_data(str(stop_code), api_key)\n",
    "        total_delay = 0\n",
    "               \n",
    "        for i in range(len(bus_list)):\n",
    "            bus_data = bus_list[i][\"MonitoredVehicleJourney\"]\n",
    "            \n",
    "            if (bus_data[\"LineRef\"] == bus_line):\n",
    "                \n",
    "                aimed_arrival_time = bus_data[\"MonitoredCall\"][\"AimedArrivalTime\"]\n",
    "                expected_arrival_time = bus_data[\"MonitoredCall\"][\"ExpectedArrivalTime\"]\n",
    "                \n",
    "                if (aimed_arrival_time == None or expected_arrival_time == None):\n",
    "                    continue\n",
    "                \n",
    "                aimed = datetime.strptime(aimed_arrival_time, \"%Y-%m-%dT%XZ\")\n",
    "                expected = datetime.strptime(expected_arrival_time, \"%Y-%m-%dT%XZ\")\n",
    "                delay = (expected - aimed)\n",
    "            \n",
    "                if delay.total_seconds() > 0:\n",
    "                    total_delay += delay.total_seconds()\n",
    "                    \n",
    "        delay_dict[str(stop_code)] = total_delay\n",
    "        \n",
    "    now = datetime.now().astimezone(ZoneInfo('US/Pacific')).strftime(\"%m/%d/%Y %H:%M:%S\")    \n",
    "    delays_df = pd.DataFrame(delay_dict.items(), columns=[\"stop_code\", now]) \n",
    "    delays_df[\"stop_code\"] = delays_df[\"stop_code\"].astype(int)\n",
    "    df = df.merge(delays_df, how=\"left\", on=\"stop_code\")\n",
    "    df.to_csv(\"Line \" + bus_line + \".csv\")\n",
    "    return delay_dict"
   ]
  },
  {
   "cell_type": "markdown",
   "id": "b8ddbe28-a3a9-4700-8d39-259cf151e61b",
   "metadata": {},
   "source": [
    "### Calls"
   ]
  },
  {
   "cell_type": "code",
   "execution_count": 5,
   "id": "0125c841-d2a0-43b0-9d53-37b4f3cd5998",
   "metadata": {},
   "outputs": [],
   "source": [
    "delays_19 = calculate_delays(\"19\", purva)"
   ]
  },
  {
   "cell_type": "code",
   "execution_count": 6,
   "id": "43d730eb-c69c-4035-b2e4-190b86419b3d",
   "metadata": {},
   "outputs": [],
   "source": [
    "delays_20 = calculate_delays(\"20\", jackson)"
   ]
  },
  {
   "cell_type": "code",
   "execution_count": 7,
   "id": "275a1347-373b-4825-bab1-a7bd03503307",
   "metadata": {},
   "outputs": [],
   "source": [
    "delays_51a = calculate_delays(\"51A\", purva)"
   ]
  },
  {
   "cell_type": "code",
   "execution_count": null,
   "id": "5c513964-7770-414c-b008-502054d1cc43",
   "metadata": {},
   "outputs": [],
   "source": []
  }
 ],
 "metadata": {
  "kernelspec": {
   "display_name": "Python 3 (ipykernel)",
   "language": "python",
   "name": "python3"
  },
  "language_info": {
   "codemirror_mode": {
    "name": "ipython",
    "version": 3
   },
   "file_extension": ".py",
   "mimetype": "text/x-python",
   "name": "python",
   "nbconvert_exporter": "python",
   "pygments_lexer": "ipython3",
   "version": "3.10.8"
  }
 },
 "nbformat": 4,
 "nbformat_minor": 5
}
